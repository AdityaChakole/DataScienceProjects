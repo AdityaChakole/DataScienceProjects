{
 "cells": [
  {
   "cell_type": "code",
   "execution_count": 1,
   "id": "a60996ad",
   "metadata": {},
   "outputs": [],
   "source": [
    "import pandas as pd\n",
    "import numpy as np"
   ]
  },
  {
   "cell_type": "code",
   "execution_count": 14,
   "id": "e24fea62",
   "metadata": {},
   "outputs": [],
   "source": [
    "data='D:/MAchine Learning/Dataset/Sept-March data - Sheet.csv'\n",
    "df=pd.read_csv(data,sep=',')"
   ]
  },
  {
   "cell_type": "markdown",
   "id": "9b21e79f",
   "metadata": {},
   "source": [
    "Problem Statement:\n",
    "1. Classifcation Problem: To predict if the ticket's SLA would get violated or not.\n",
    "2. Regression Probelm: To predict time required to resolve a support ticket(continued in 2nd file)."
   ]
  },
  {
   "cell_type": "raw",
   "id": "70be91ff",
   "metadata": {},
   "source": [
    "Dataset: \n",
    "The dataset contains tickets raised between Sep 2020-March 2021 by customers for UrbanPiper.Pvt.Ltd(Ex-employer). EDA and related sensitive information had been removed for Privacy Concerns."
   ]
  },
  {
   "cell_type": "code",
   "execution_count": null,
   "id": "82135a9e",
   "metadata": {},
   "outputs": [],
   "source": [
    "Following code includes: Pre-processing\n",
    "                         Model Building\n",
    "                         HTML code genrator\n",
    "                         Pickle file\n",
    "P.s. : EDA removed"
   ]
  },
  {
   "cell_type": "code",
   "execution_count": 1,
   "id": "1be74468",
   "metadata": {},
   "outputs": [],
   "source": [
    "#df.head()"
   ]
  },
  {
   "cell_type": "markdown",
   "id": "276dc73e",
   "metadata": {},
   "source": [
    "Pre-Processing"
   ]
  },
  {
   "cell_type": "code",
   "execution_count": 16,
   "id": "a0fe0781",
   "metadata": {},
   "outputs": [],
   "source": [
    "df.drop(['Ticket ID', 'Subject', 'Status', 'Source','Created time', 'Due by Time', 'Resolved time', 'Closed time',\n",
    "       'Last update time', 'Initial response time', 'Time tracked',\n",
    "       'First response time (in hrs)', 'Resolution time (in hrs)',\n",
    "       'Agent interactions', 'Customer interactions', 'First response status', 'Tags', 'Survey results', 'Association type',\n",
    "       'Internal agent', 'Internal group', 'Every response status', \n",
    "        'Biz ID', 'Biz Name', 'POS',\n",
    "       'POS Name', 'Aggregator name', 'Source.1',\n",
    "       'Order Status', 'Username', 'UrbanPiper Store Name/ID', 'Item Name/ID',\n",
    "       'Product Name', 'Type of issue', 'Order ID', 'Username.1', 'Country',\n",
    "       'Option Name/ID', 'Email Address', 'Date & Time', 'Full name',\n",
    "       'Contact ID'],axis=1,inplace=True)"
   ]
  },
  {
   "cell_type": "code",
   "execution_count": 17,
   "id": "8a1d2027",
   "metadata": {},
   "outputs": [],
   "source": [
    "df.drop(['Product'],axis=1,inplace=True)"
   ]
  },
  {
   "cell_type": "code",
   "execution_count": 18,
   "id": "68e83e10",
   "metadata": {},
   "outputs": [],
   "source": [
    "df[\"Product.1\"] =df[\"Product.1\"].replace({np.nan:'Others'}, regex=True)\n",
    "df[\"Merchant\"] =df[\"Merchant\"].replace({np.nan:'Others'}, regex=False)\n"
   ]
  },
  {
   "cell_type": "code",
   "execution_count": 19,
   "id": "0330af36",
   "metadata": {},
   "outputs": [],
   "source": [
    "df=df.dropna() #Dropping all cases without Resolution status"
   ]
  },
  {
   "cell_type": "code",
   "execution_count": 20,
   "id": "b2d52e7a",
   "metadata": {},
   "outputs": [
    {
     "data": {
      "text/plain": [
       "Priority                   4\n",
       "Type                       7\n",
       "Agent                     14\n",
       "Group                      5\n",
       "Resolution status          2\n",
       "Product.1                  6\n",
       "Module                     6\n",
       "Merchant                 378\n",
       "Resolution Dependency      9\n",
       "dtype: int64"
      ]
     },
     "execution_count": 20,
     "metadata": {},
     "output_type": "execute_result"
    }
   ],
   "source": [
    "df.nunique() # Unique Values"
   ]
  },
  {
   "cell_type": "code",
   "execution_count": 21,
   "id": "e7c7c137",
   "metadata": {},
   "outputs": [],
   "source": [
    "from sklearn import preprocessing\n",
    "le = preprocessing.LabelEncoder()"
   ]
  },
  {
   "cell_type": "code",
   "execution_count": null,
   "id": "b891d704",
   "metadata": {},
   "outputs": [],
   "source": [
    "#Converting Categorical data to encoded Data"
   ]
  },
  {
   "cell_type": "code",
   "execution_count": 22,
   "id": "da2fc6aa",
   "metadata": {},
   "outputs": [
    {
     "name": "stderr",
     "output_type": "stream",
     "text": [
      "C:\\Users\\lenov\\AppData\\Local\\Temp/ipykernel_9300/2525559946.py:1: SettingWithCopyWarning: \n",
      "A value is trying to be set on a copy of a slice from a DataFrame.\n",
      "Try using .loc[row_indexer,col_indexer] = value instead\n",
      "\n",
      "See the caveats in the documentation: https://pandas.pydata.org/pandas-docs/stable/user_guide/indexing.html#returning-a-view-versus-a-copy\n",
      "  df['Type']=le.fit_transform(df['Type']) #Converting Categorical data to encoded Data\n"
     ]
    }
   ],
   "source": [
    "df['Type']=le.fit_transform(df['Type']) "
   ]
  },
  {
   "cell_type": "code",
   "execution_count": 233,
   "id": "5679a212",
   "metadata": {},
   "outputs": [],
   "source": [
    "#Creating Data Frame having Categorical Data and Unique Encoded Value\n",
    "e_type=pd.DataFrame(le.classes_,le.transform(le.classes_),columns=['Type']) \n",
    "\n"
   ]
  },
  {
   "cell_type": "code",
   "execution_count": 234,
   "id": "700e0453",
   "metadata": {},
   "outputs": [
    {
     "data": {
      "text/plain": [
       "array(['Demo request', 'FYI', 'Feature request', 'Issues',\n",
       "       'Misconfiguration', 'Others', 'Service request'], dtype=object)"
      ]
     },
     "execution_count": 234,
     "metadata": {},
     "output_type": "execute_result"
    }
   ],
   "source": [
    "le.classes_ #No of unique Classes"
   ]
  },
  {
   "cell_type": "markdown",
   "id": "f26dafa0",
   "metadata": {},
   "source": [
    "Since we would need options for a particular category, manually genrating the required HTML format could be difficult, especially for large number of options, Hence the code below automates the work for us"
   ]
  },
  {
   "cell_type": "code",
   "execution_count": 236,
   "id": "ca0ce176",
   "metadata": {
    "scrolled": false
   },
   "outputs": [
    {
     "name": "stdout",
     "output_type": "stream",
     "text": [
      "<option value=\"0\">Demo request</option>\n",
      "<option value=\"1\">FYI</option>\n",
      "<option value=\"2\">Feature request</option>\n",
      "<option value=\"3\">Issues</option>\n",
      "<option value=\"4\">Misconfiguration</option>\n",
      "<option value=\"5\">Others</option>\n",
      "<option value=\"6\">Service request</option>\n"
     ]
    }
   ],
   "source": [
    "# Converting DF to required HTML format\n",
    "type=[]\n",
    "for i in range(len(e_type)):\n",
    "    type.append('''<option value=\"{}\">{}</option>'''.format(i,e_type.loc[i,'Type']))\n",
    "for i in type:\n",
    "    print(i)"
   ]
  },
  {
   "cell_type": "code",
   "execution_count": 261,
   "id": "3c4f93ce",
   "metadata": {},
   "outputs": [],
   "source": [
    "#Repeating each transformation seperately as fit function is changing for every row"
   ]
  },
  {
   "cell_type": "code",
   "execution_count": 255,
   "id": "9d322ca2",
   "metadata": {
    "scrolled": true
   },
   "outputs": [
    {
     "name": "stdout",
     "output_type": "stream",
     "text": [
      "<option value=\"0\">High</option>\n",
      "<option value=\"1\">Low</option>\n",
      "<option value=\"2\">Medium</option>\n",
      "<option value=\"3\">Urgent</option>\n"
     ]
    }
   ],
   "source": [
    "df['Priority']=le.fit_transform(df['Priority'])\n",
    "p_type=pd.DataFrame(le.classes_,le.transform(le.classes_),columns=['Priority'])\n",
    "p=[]\n",
    "for i in range(len(p_type)):\n",
    "    p.append('''<option value=\"{}\">{}</option>'''.format(i,p_type.loc[i,'Priority']))\n",
    "for i in p:\n",
    "    print(i)"
   ]
  },
  {
   "cell_type": "code",
   "execution_count": null,
   "id": "25baded4",
   "metadata": {},
   "outputs": [],
   "source": [
    "df['Agent']=le.fit_transform(df['Agent'])\n",
    "a_type=pd.DataFrame(le.classes_,le.transform(le.classes_),columns=['Agent'])\n",
    "p=[]\n",
    "for i in range(len(a_type)):\n",
    "    p.append('''<option value=\"{}\">{}</option>'''.format(i,a_type.loc[i,'Agent']))\n",
    "for i in p:\n",
    "    print(i)"
   ]
  },
  {
   "cell_type": "code",
   "execution_count": 257,
   "id": "bad68abc",
   "metadata": {},
   "outputs": [
    {
     "name": "stdout",
     "output_type": "stream",
     "text": [
      "<option value=\"0\">Call Support Team</option>\n",
      "<option value=\"1\">Customer Experience</option>\n",
      "<option value=\"2\">Firefighters—L1</option>\n",
      "<option value=\"3\">Firefighters—L2</option>\n",
      "<option value=\"4\">No Group</option>\n"
     ]
    }
   ],
   "source": [
    "df['Group']=le.fit_transform(df['Group'])\n",
    "g_type=pd.DataFrame(le.classes_,le.transform(le.classes_),columns=['Group'])\n",
    "p=[]\n",
    "for i in range(len(g_type)):\n",
    "    p.append('''<option value=\"{}\">{}</option>'''.format(i,g_type.loc[i,'Group']))\n",
    "for i in p:\n",
    "    print(i)\n"
   ]
  },
  {
   "cell_type": "code",
   "execution_count": 258,
   "id": "05d105ef",
   "metadata": {},
   "outputs": [
    {
     "name": "stdout",
     "output_type": "stream",
     "text": [
      "<option value=\"0\">Comet</option>\n",
      "<option value=\"1\">Hub</option>\n",
      "<option value=\"2\">Meraki</option>\n",
      "<option value=\"3\">Others</option>\n",
      "<option value=\"4\">Prime</option>\n",
      "<option value=\"5\">Prime POS</option>\n"
     ]
    }
   ],
   "source": [
    "df['Product.1']=le.fit_transform(df['Product.1'])\n",
    "g_type=pd.DataFrame(le.classes_,le.transform(le.classes_),columns=['Product.1'])\n",
    "p=[]\n",
    "for i in range(len(g_type)):\n",
    "    p.append('''<option value=\"{}\">{}</option>'''.format(i,g_type.loc[i,'Product.1']))\n",
    "for i in p:\n",
    "    print(i)"
   ]
  },
  {
   "cell_type": "code",
   "execution_count": 259,
   "id": "60cf1d7c",
   "metadata": {},
   "outputs": [
    {
     "name": "stdout",
     "output_type": "stream",
     "text": [
      "<option value=\"0\">Catalogue Config Request</option>\n",
      "<option value=\"1\">Charges</option>\n",
      "<option value=\"2\">Demo Request</option>\n",
      "<option value=\"3\">Store Availability</option>\n",
      "<option value=\"4\">Taxes</option>\n",
      "<option value=\"5\">User Account</option>\n"
     ]
    }
   ],
   "source": [
    "df['Module']=le.fit_transform(df['Module'])\n",
    "g_type=pd.DataFrame(le.classes_,le.transform(le.classes_),columns=['Product.1'])\n",
    "p=[]\n",
    "for i in range(len(g_type)):\n",
    "    p.append('''<option value=\"{}\">{}</option>'''.format(i,g_type.loc[i,'Product.1']))\n",
    "for i in p:\n",
    "    print(i)\n"
   ]
  },
  {
   "cell_type": "code",
   "execution_count": null,
   "id": "aee39c33",
   "metadata": {},
   "outputs": [],
   "source": [
    "df['Merchant']=le.fit_transform(df['Merchant'])\n",
    "g_type=pd.DataFrame(le.classes_,le.transform(le.classes_),columns=['Product.1'])\n",
    "p=[]\n",
    "for i in range(len(g_type)):\n",
    "    p.append('''<option value=\"{}\">{}</option>'''.format(i,g_type.loc[i,'Product.1']))\n",
    "for i in p:\n",
    "    print(i)"
   ]
  },
  {
   "cell_type": "code",
   "execution_count": 262,
   "id": "06c7f4c9",
   "metadata": {},
   "outputs": [
    {
     "name": "stdout",
     "output_type": "stream",
     "text": [
      "<option value=\"0\">Account Management</option>\n",
      "<option value=\"1\">Finance</option>\n",
      "<option value=\"2\">Integrations</option>\n",
      "<option value=\"3\">L1 Support</option>\n",
      "<option value=\"4\">L2 Support</option>\n",
      "<option value=\"5\">On-boarding</option>\n",
      "<option value=\"6\">Product Specialist</option>\n",
      "<option value=\"7\">Program Management</option>\n",
      "<option value=\"8\">Sales</option>\n"
     ]
    }
   ],
   "source": [
    "df['Resolution Dependency']=le.fit_transform(df['Resolution Dependency'])\n",
    "g_type=pd.DataFrame(le.classes_,le.transform(le.classes_),columns=['Product.1'])\n",
    "p=[]\n",
    "for i in range(len(g_type)):\n",
    "    p.append('''<option value=\"{}\">{}</option>'''.format(i,g_type.loc[i,'Product.1']))\n",
    "for i in p:\n",
    "    print(i)\n"
   ]
  },
  {
   "cell_type": "code",
   "execution_count": null,
   "id": "af15e353",
   "metadata": {},
   "outputs": [],
   "source": [
    "#Declaring Dependant & Independant variable "
   ]
  },
  {
   "cell_type": "code",
   "execution_count": 45,
   "id": "b0ab14dd",
   "metadata": {},
   "outputs": [],
   "source": [
    "X=df.drop(['Resolution status'],axis=1)\n",
    "y=df['Resolution status']"
   ]
  },
  {
   "cell_type": "code",
   "execution_count": 263,
   "id": "125b7821",
   "metadata": {},
   "outputs": [
    {
     "data": {
      "text/plain": [
       "Within SLA      2467\n",
       "SLA Violated     631\n",
       "Name: Resolution status, dtype: int64"
      ]
     },
     "execution_count": 263,
     "metadata": {},
     "output_type": "execute_result"
    }
   ],
   "source": [
    "y.value_counts()"
   ]
  },
  {
   "cell_type": "code",
   "execution_count": 264,
   "id": "0b9bbb53",
   "metadata": {},
   "outputs": [],
   "source": [
    "#As we can see our target variable is Imbalanced, Balancing the same by doing a OverSampling"
   ]
  },
  {
   "cell_type": "code",
   "execution_count": 266,
   "id": "92654d41",
   "metadata": {},
   "outputs": [],
   "source": [
    "from imblearn.over_sampling import SMOTE\n",
    "sm=SMOTE()"
   ]
  },
  {
   "cell_type": "code",
   "execution_count": 267,
   "id": "e37d88e9",
   "metadata": {},
   "outputs": [],
   "source": [
    "X_os,y_os=sm.fit_resample(X,y)"
   ]
  },
  {
   "cell_type": "code",
   "execution_count": 268,
   "id": "a06027d4",
   "metadata": {},
   "outputs": [],
   "source": [
    "from sklearn.model_selection import train_test_split\n",
    "X_train,X_test,y_train,y_test=train_test_split(X_os,y_os,test_size=0.3,random_state=123)"
   ]
  },
  {
   "cell_type": "code",
   "execution_count": 269,
   "id": "b77649c8",
   "metadata": {},
   "outputs": [],
   "source": [
    "from sklearn.metrics import accuracy_score,confusion_matrix,classification_report"
   ]
  },
  {
   "cell_type": "code",
   "execution_count": 270,
   "id": "a1ee9748",
   "metadata": {},
   "outputs": [],
   "source": [
    "from sklearn.tree import DecisionTreeClassifier"
   ]
  },
  {
   "cell_type": "code",
   "execution_count": 271,
   "id": "9f09d087",
   "metadata": {},
   "outputs": [],
   "source": [
    "dt=DecisionTreeClassifier()"
   ]
  },
  {
   "cell_type": "code",
   "execution_count": 272,
   "id": "706c4907",
   "metadata": {},
   "outputs": [
    {
     "data": {
      "text/plain": [
       "DecisionTreeClassifier()"
      ]
     },
     "execution_count": 272,
     "metadata": {},
     "output_type": "execute_result"
    }
   ],
   "source": [
    "dt.fit(X_train,y_train)"
   ]
  },
  {
   "cell_type": "code",
   "execution_count": 273,
   "id": "c167aa82",
   "metadata": {},
   "outputs": [],
   "source": [
    "y_pred=dt.predict(X_test)\n"
   ]
  },
  {
   "cell_type": "code",
   "execution_count": 274,
   "id": "25959c2c",
   "metadata": {},
   "outputs": [
    {
     "data": {
      "text/plain": [
       "0.7981093855503039"
      ]
     },
     "execution_count": 274,
     "metadata": {},
     "output_type": "execute_result"
    }
   ],
   "source": [
    "accuracy_score(y_test,y_pred)"
   ]
  },
  {
   "cell_type": "markdown",
   "id": "ad7d9f6c",
   "metadata": {},
   "source": [
    "#Observations: Since the no of merchants in the independant vaeriable are close 378 to  as compared to other independant feature which range between 0 to 30, its understood that merchant feature needs to be normailze\n",
    "                                 But as opposed to that Decison Tree is performing better with an accuracy of 79% with non normalized data as comapred to 76% when data is normalized.\n",
    "                             \n"
   ]
  },
  {
   "cell_type": "raw",
   "id": "b4476a43",
   "metadata": {},
   "source": [
    "#Conclusion : We can conclude that while splitting the tree nodes in Decision tree it performs better with non normalized feature on this data set, probably because while calculating the Ginni Index theres a much greater range available."
   ]
  },
  {
   "cell_type": "code",
   "execution_count": 275,
   "id": "52bc8bd7",
   "metadata": {},
   "outputs": [],
   "source": [
    "import pickle"
   ]
  },
  {
   "cell_type": "code",
   "execution_count": 276,
   "id": "f73080d4",
   "metadata": {},
   "outputs": [
    {
     "name": "stdout",
     "output_type": "stream",
     "text": [
      "['SLA Violated']\n"
     ]
    },
    {
     "name": "stderr",
     "output_type": "stream",
     "text": [
      "C:\\Users\\lenov\\anaconda3\\lib\\site-packages\\sklearn\\base.py:450: UserWarning: X does not have valid feature names, but DecisionTreeClassifier was fitted with feature names\n",
      "  warnings.warn(\n"
     ]
    }
   ],
   "source": [
    "#Creating Pickel Model\n",
    "\n",
    "pickle.dump(dt, open('model_Pickle_dump.pkl','wb'))\n",
    "\n",
    "# Loading model to compare the results\n",
    "model = pickle.load(open('model_Pickle_dump.pkl','rb'))\n",
    "print(model.predict([[2, 9, 6, 4 ,5 ,7 ,8 ,9]]))\n"
   ]
  },
  {
   "cell_type": "code",
   "execution_count": null,
   "id": "a9bd028d",
   "metadata": {},
   "outputs": [],
   "source": []
  }
 ],
 "metadata": {
  "kernelspec": {
   "display_name": "Python 3 (ipykernel)",
   "language": "python",
   "name": "python3"
  },
  "language_info": {
   "codemirror_mode": {
    "name": "ipython",
    "version": 3
   },
   "file_extension": ".py",
   "mimetype": "text/x-python",
   "name": "python",
   "nbconvert_exporter": "python",
   "pygments_lexer": "ipython3",
   "version": "3.9.12"
  }
 },
 "nbformat": 4,
 "nbformat_minor": 5
}
